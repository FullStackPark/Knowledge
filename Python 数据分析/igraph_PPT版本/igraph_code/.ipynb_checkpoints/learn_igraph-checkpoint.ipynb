{
 "cells": [
  {
   "cell_type": "code",
   "execution_count": 1,
   "metadata": {
    "collapsed": false
   },
   "outputs": [
    {
     "name": "stdout",
     "output_type": "stream",
     "text": [
      "IGRAPH UN-- 14 17 --\n",
      "+ attr: name (v)\n",
      "+ edges (vertex names):\n",
      "1--2, 1--3, 2--3, 3--7, 4--5, 4--6, 5--6, 7--6, 7--8, 8--9, 9--10, 9--11,\n",
      "10--11, 8--12, 12--13, 12--14, 13--14\n",
      "1 2\n",
      "2 2\n",
      "3 3\n",
      "7 3\n",
      "4 2\n",
      "5 2\n",
      "6 3\n",
      "8 3\n",
      "9 3\n",
      "10 2\n",
      "11 2\n",
      "12 3\n",
      "13 2\n",
      "14 2\n"
     ]
    }
   ],
   "source": [
    "import csv\n",
    "edges = []\n",
    "with open('net.data', 'rb') as f:\n",
    "    for row in csv.reader(f.read().splitlines()):\n",
    "        u, v = [i for i in row]\n",
    "        edges.append((u, v))\n",
    "from igraph import Graph as IGraph\n",
    "g = IGraph.TupleList(edges, directed=False, vertex_name_attr='name', edge_attrs=None, weights=False)\n",
    "print g\n",
    "for p in g.vs:\n",
    "    print p[\"name\"],p.degree()\n",
    "names = g.vs[\"name\"]"
   ]
  },
  {
   "cell_type": "code",
   "execution_count": 2,
   "metadata": {
    "collapsed": false
   },
   "outputs": [
    {
     "name": "stdout",
     "output_type": "stream",
     "text": [
      "['7', '3', '1']\n",
      "['7', '3', '2']\n",
      "['7', '3']\n",
      "['7']\n",
      "['7', '6', '4']\n",
      "['7', '6', '5']\n",
      "['7', '6']\n",
      "['7', '8']\n",
      "['7', '8', '9']\n",
      "['7', '8', '9', '10']\n",
      "['7', '8', '9', '11']\n",
      "['7', '8', '12']\n",
      "['7', '8', '12', '13']\n",
      "['7', '8', '12', '14']\n",
      "closeness centrality = 0.481481481481\n"
     ]
    }
   ],
   "source": [
    "paths = g.get_all_shortest_paths(\"7\")\n",
    "cc = 0\n",
    "for p in paths:\n",
    "    print [names[x] for x in p]\n",
    "    cc += len(p)-1\n",
    "print \"closeness centrality =\",(len(paths)-1)/float(cc)"
   ]
  },
  {
   "cell_type": "code",
   "execution_count": 3,
   "metadata": {
    "collapsed": false
   },
   "outputs": [
    {
     "data": {
      "text/plain": [
       "[{'cc': 0.48148148148148145, 'name': '7'},\n",
       " {'cc': 0.48148148148148145, 'name': '8'},\n",
       " {'cc': 0.37142857142857144, 'name': '3'},\n",
       " {'cc': 0.37142857142857144, 'name': '6'},\n",
       " {'cc': 0.37142857142857144, 'name': '9'},\n",
       " {'cc': 0.37142857142857144, 'name': '12'},\n",
       " {'cc': 0.2826086956521739, 'name': '1'},\n",
       " {'cc': 0.2826086956521739, 'name': '2'},\n",
       " {'cc': 0.2826086956521739, 'name': '4'},\n",
       " {'cc': 0.2826086956521739, 'name': '5'},\n",
       " {'cc': 0.2826086956521739, 'name': '10'},\n",
       " {'cc': 0.2826086956521739, 'name': '11'},\n",
       " {'cc': 0.2826086956521739, 'name': '13'},\n",
       " {'cc': 0.2826086956521739, 'name': '14'}]"
      ]
     },
     "execution_count": 3,
     "metadata": {},
     "output_type": "execute_result"
    }
   ],
   "source": [
    "ccvs = []\n",
    "for p in zip(g.vs, g.closeness()):\n",
    "    ccvs.append({\"name\": p[0][\"name\"], \"cc\": p[1]})\n",
    "# print pgvs\n",
    "sorted(ccvs, key=lambda k: k['cc'], reverse=True)"
   ]
  },
  {
   "cell_type": "code",
   "execution_count": 4,
   "metadata": {
    "collapsed": false
   },
   "outputs": [
    {
     "name": "stdout",
     "output_type": "stream",
     "text": [
      "betweenness = 51\n"
     ]
    }
   ],
   "source": [
    "sp = []\n",
    "target = 7\n",
    "for v in g.vs:\n",
    "#     print v,v[\"name\"]\n",
    "    paths = g.get_all_shortest_paths(v[\"name\"])\n",
    "    for p in paths:\n",
    "        if target in p and target != p[0] and target != p[-1]:\n",
    "#             print target,p\n",
    "            sp.append(p)\n",
    "# print sp\n",
    "# print len(sp)\n",
    "# 去重：i到j和j到i的同一条路径\n",
    "spbt = 0\n",
    "tu = []\n",
    "for x in sp:\n",
    "    if set((x[0],x[-1])) not in tu:\n",
    "        tu.append(set((x[0],x[-1])))\n",
    "        spbt += 1\n",
    "print \"betweenness =\", spbt"
   ]
  },
  {
   "cell_type": "code",
   "execution_count": 5,
   "metadata": {
    "collapsed": false
   },
   "outputs": [
    {
     "data": {
      "text/plain": [
       "[{'bt': 51.0, 'name': '7'},\n",
       " {'bt': 51.0, 'name': '8'},\n",
       " {'bt': 22.0, 'name': '3'},\n",
       " {'bt': 22.0, 'name': '6'},\n",
       " {'bt': 22.0, 'name': '9'},\n",
       " {'bt': 22.0, 'name': '12'},\n",
       " {'bt': 0.0, 'name': '1'},\n",
       " {'bt': 0.0, 'name': '2'},\n",
       " {'bt': 0.0, 'name': '4'},\n",
       " {'bt': 0.0, 'name': '5'},\n",
       " {'bt': 0.0, 'name': '10'},\n",
       " {'bt': 0.0, 'name': '11'},\n",
       " {'bt': 0.0, 'name': '13'},\n",
       " {'bt': 0.0, 'name': '14'}]"
      ]
     },
     "execution_count": 5,
     "metadata": {},
     "output_type": "execute_result"
    }
   ],
   "source": [
    "btvs = []\n",
    "for p in zip(g.vs, g.betweenness()):\n",
    "    btvs.append({\"name\": p[0][\"name\"], \"bt\": p[1]})\n",
    "# print pgvs\n",
    "sorted(btvs, key=lambda k: k['bt'], reverse=True)"
   ]
  },
  {
   "cell_type": "code",
   "execution_count": 6,
   "metadata": {
    "collapsed": false
   },
   "outputs": [
    {
     "data": {
      "text/plain": [
       "[{'name': '3', 'pg': 0.08621177802944507},\n",
       " {'name': '6', 'pg': 0.08621177802944507},\n",
       " {'name': '9', 'pg': 0.08621177802944506},\n",
       " {'name': '12', 'pg': 0.08621177802944506},\n",
       " {'name': '7', 'pg': 0.08311761850833196},\n",
       " {'name': '8', 'pg': 0.08311761850833196},\n",
       " {'name': '2', 'pg': 0.06111470635819448},\n",
       " {'name': '5', 'pg': 0.06111470635819448},\n",
       " {'name': '14', 'pg': 0.06111470635819448},\n",
       " {'name': '1', 'pg': 0.06111470635819447}]"
      ]
     },
     "execution_count": 6,
     "metadata": {},
     "output_type": "execute_result"
    }
   ],
   "source": [
    "pg = g.pagerank()\n",
    "# pg = g.pagerank(vertices=None, directed=True, damping=0.85, \n",
    "#                 weights=weights, arpack_options=None, \n",
    "#                 implementation='prpack', \n",
    "#                 niter=1000, eps=0.001)\n",
    "pgvs = []\n",
    "for p in zip(g.vs, pg):\n",
    "    pgvs.append({\"name\": p[0][\"name\"], \"pg\": p[1]})\n",
    "# print pgvs\n",
    "sorted(pgvs, key=lambda k: k['pg'], reverse=True)[:10]"
   ]
  },
  {
   "cell_type": "code",
   "execution_count": 7,
   "metadata": {
    "collapsed": false
   },
   "outputs": [
    {
     "data": {
      "text/plain": [
       "[{'bt': 49.0, 'edge': ('7', '8')},\n",
       " {'bt': 33.0, 'edge': ('3', '7')},\n",
       " {'bt': 33.0, 'edge': ('7', '6')},\n",
       " {'bt': 33.0, 'edge': ('8', '9')},\n",
       " {'bt': 33.0, 'edge': ('8', '12')},\n",
       " {'bt': 12.0, 'edge': ('1', '3')},\n",
       " {'bt': 12.0, 'edge': ('2', '3')},\n",
       " {'bt': 12.0, 'edge': ('4', '6')},\n",
       " {'bt': 12.0, 'edge': ('5', '6')},\n",
       " {'bt': 12.0, 'edge': ('9', '10')},\n",
       " {'bt': 12.0, 'edge': ('9', '11')},\n",
       " {'bt': 12.0, 'edge': ('12', '13')},\n",
       " {'bt': 12.0, 'edge': ('12', '14')},\n",
       " {'bt': 1.0, 'edge': ('1', '2')},\n",
       " {'bt': 1.0, 'edge': ('4', '5')},\n",
       " {'bt': 1.0, 'edge': ('10', '11')},\n",
       " {'bt': 1.0, 'edge': ('13', '14')}]"
      ]
     },
     "execution_count": 7,
     "metadata": {},
     "output_type": "execute_result"
    }
   ],
   "source": [
    "btes = []\n",
    "for p in zip(g.es(), g.edge_betweenness()):\n",
    "    e = p[0].tuple\n",
    "    btes.append({\"edge\":(names[e[0]],names[e[1]]),\"bt\":p[1]})\n",
    "sorted(btes, key=lambda k: k['bt'], reverse=True)"
   ]
  },
  {
   "cell_type": "code",
   "execution_count": 8,
   "metadata": {
    "collapsed": false
   },
   "outputs": [
    {
     "name": "stdout",
     "output_type": "stream",
     "text": [
      "Dendrogram, 14 elements, 13 merges\n",
      "\n",
      "0 1 2 3 4 5 6 7 11 12 13 8 9 10\n",
      "| | | | | | | | |  |  |  | | |\n",
      "| | | | | | | | |  `--'  | | |\n",
      "| | | | | | | | |   |    | | |\n",
      "| | | | | | | | `---'    | `-'\n",
      "| | | | | | | |   |      |  | \n",
      "| | | | | `-' |   |      `--' \n",
      "| | | | |  |  |   |       |   \n",
      "| `-' | `--'  |   |       |   \n",
      "|  |  |  |    |   |       |   \n",
      "`--'  `--'    `---'       |   \n",
      " |     |        |         |   \n",
      " `-----'        `---------'   \n",
      "    |                |        \n",
      "    `----------------'\n",
      "['1', '2', '3', '7', '4', '5', '6', '8', '9', '10', '11', '12', '13', '14']\n"
     ]
    }
   ],
   "source": [
    "communities = g.community_edge_betweenness(directed=False, weights=None)\n",
    "print communities\n",
    "print g.vs[\"name\"]"
   ]
  }
 ],
 "metadata": {
  "kernelspec": {
   "display_name": "Python [Root]",
   "language": "python",
   "name": "Python [Root]"
  },
  "language_info": {
   "codemirror_mode": {
    "name": "ipython",
    "version": 2
   },
   "file_extension": ".py",
   "mimetype": "text/x-python",
   "name": "python",
   "nbconvert_exporter": "python",
   "pygments_lexer": "ipython2",
   "version": "2.7.12"
  }
 },
 "nbformat": 4,
 "nbformat_minor": 0
}
