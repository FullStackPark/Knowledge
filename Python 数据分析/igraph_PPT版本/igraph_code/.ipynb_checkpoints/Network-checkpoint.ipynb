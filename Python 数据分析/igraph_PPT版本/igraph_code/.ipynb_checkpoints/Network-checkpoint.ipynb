{
 "cells": [
  {
   "cell_type": "markdown",
   "metadata": {},
   "source": [
    "# 分析权利的游戏网络 @sumnous\n",
    "\n",
    "几个月前，数学家Andrew Beveridge和Jie Shan在Math Horizon杂志上发表了权利的游戏的网络，其中，他们分析了小说“冰雨的风暴”，火爆的“冰与火之歌”（权利的游戏电视剧的基础）的第三卷中的角色互动网络。在他们的论文中，他们详细介绍了如何通过使用文本分析和实体抽取，来发现文本中提到的角色，从而构建角色互动网络。然后，他们应用社交网络分析算法到该网络中，以找到该网络中最重要的角色，并且应用社区检测算法来找到角色集群。\n",
    "\n",
    "分析和可视化是通过使用Gephi，这一流行的图形分析工具，来完成的。近期也有很多作者使用Neo4j来复制结果。我们也可以使用igraph工具包来分析一下权利的有效网络。\n",
    "\n",
    "参考：\n",
    "\n",
    "https://www.macalester.edu/~abeverid/thrones.html\n",
    "\n",
    "https://bigdata-ny.github.io/2016/08/12/graph-of-thrones-neo4j-social-network-analysis/\n",
    "\n",
    "http://www.lyonwj.com/2016/06/26/graph-of-thrones-neo4j-social-network-analysis/"
   ]
  },
  {
   "cell_type": "code",
   "execution_count": 1,
   "metadata": {
    "collapsed": false
   },
   "outputs": [],
   "source": [
    "import csv\n",
    "edges = []\n",
    "firstline = True\n",
    "with open('stormofswords.csv', 'rb') as f:\n",
    "    for row in csv.reader(f.read().splitlines()):\n",
    "        if firstline == True:\n",
    "            firstline = False\n",
    "            continue\n",
    "        u, v, weight = [i for i in row]\n",
    "        edges.append((u, v, int(weight)))"
   ]
  },
  {
   "cell_type": "markdown",
   "metadata": {},
   "source": [
    "## python-igraph库\n",
    "\n",
    "安装：\n",
    "\n",
    "pip install python-igraph\n",
    "\n",
    "或\n",
    "\n",
    "conda install -c marufr python-igraph=0.7.1.post6\n",
    "\n",
    "python-igraph manual: http://igraph.org/python/doc/igraph.Graph-class.html"
   ]
  },
  {
   "cell_type": "code",
   "execution_count": 2,
   "metadata": {
    "collapsed": false
   },
   "outputs": [],
   "source": [
    "from igraph import Graph as IGraph\n",
    "\n",
    "g = IGraph.TupleList(edges, directed=True, vertex_name_attr='name', edge_attrs=None, weights=True)\n",
    "# print g"
   ]
  },
  {
   "cell_type": "code",
   "execution_count": 3,
   "metadata": {
    "collapsed": false
   },
   "outputs": [
    {
     "data": {
      "text/plain": [
       "True"
      ]
     },
     "execution_count": 3,
     "metadata": {},
     "output_type": "execute_result"
    }
   ],
   "source": [
    "names = g.vs[\"name\"]\n",
    "weights = g.es[\"weight\"]\n",
    "g.is_weighted()"
   ]
  },
  {
   "cell_type": "markdown",
   "metadata": {},
   "source": [
    "## 分析网络"
   ]
  },
  {
   "cell_type": "code",
   "execution_count": 4,
   "metadata": {
    "collapsed": false
   },
   "outputs": [
    {
     "data": {
      "text/plain": [
       "107"
      ]
     },
     "execution_count": 4,
     "metadata": {},
     "output_type": "execute_result"
    }
   ],
   "source": [
    "# 角色数\n",
    "g.vcount()"
   ]
  },
  {
   "cell_type": "code",
   "execution_count": 5,
   "metadata": {
    "collapsed": false
   },
   "outputs": [
    {
     "name": "stdout",
     "output_type": "stream",
     "text": [
      "7\n",
      "[38, 19, 24, 5, 0, 2, 9, 86]\n"
     ]
    },
    {
     "data": {
      "text/plain": [
       "['Bronn', 'Gregor', 'Sandor', 'Robert', 'Aemon', 'Samwell', 'Mance', 'Dalla']"
      ]
     },
     "execution_count": 5,
     "metadata": {},
     "output_type": "execute_result"
    }
   ],
   "source": [
    "# 网络直径: 一个网络的直径（或者测地线）被定义为网络中的最长最短路径。\n",
    "print g.diameter()\n",
    "names = g.vs[\"name\"]\n",
    "print g.get_diameter()\n",
    "[names[x] for x in g.get_diameter()]"
   ]
  },
  {
   "cell_type": "markdown",
   "metadata": {},
   "source": [
    "## 最短路径"
   ]
  },
  {
   "cell_type": "code",
   "execution_count": 6,
   "metadata": {
    "collapsed": false
   },
   "outputs": [
    {
     "name": "stdout",
     "output_type": "stream",
     "text": [
      "[[3]]\n",
      "---------------------\n",
      "['Jon', 'Robert', 'Renly', 'Margaery']\n",
      "---------------------\n",
      "['Jon', 'Aemon']\n",
      "['Jon', 'Grenn']\n",
      "['Jon', 'Samwell']\n",
      "['Jon', 'Robert']\n",
      "['Jon', 'Alliser']\n",
      "['Jon', 'Mance']\n",
      "['Jon']\n",
      "['Jon', 'Robert', 'Thoros']\n",
      "['Jon', 'Stannis', 'Balon']\n",
      "['Jon', 'Stannis', 'Balon', 'Loras']\n",
      "['Jon', 'Robert', 'Renly', 'Loras']\n",
      "['Jon', 'Stannis', 'Renly', 'Loras']\n",
      "['Jon', 'Robert', 'Barristan']\n",
      "['Jon', 'Meera']\n",
      "['Jon', 'Theon']\n",
      "['Jon', 'Stannis']\n",
      "['Jon', 'Stannis', 'Renly', 'Varys', 'Pycelle']\n",
      "['Jon', 'Robert', 'Renly', 'Varys', 'Pycelle']\n",
      "['Jon', 'Robert', 'Renly', 'Varys']\n",
      "['Jon', 'Stannis', 'Renly', 'Varys']\n",
      "['Jon', 'Craster']\n",
      "['Jon', 'Craster', 'Karl']\n",
      "['Jon', 'Melisandre', 'Davos']\n",
      "['Jon', 'Stannis', 'Davos']\n",
      "['Jon', 'Stannis', 'Davos', 'Cressen']\n",
      "['Jon', 'Melisandre', 'Davos', 'Cressen']\n",
      "['Jon', 'Stannis', 'Davos', 'Salladhor']\n",
      "['Jon', 'Melisandre', 'Davos', 'Salladhor']\n",
      "['Jon', 'Eddison']\n",
      "['Jon', 'Gilly']\n",
      "['Jon', 'Stannis', 'Renly']\n",
      "['Jon', 'Robert', 'Renly']\n",
      "['Jon', 'Janos']\n",
      "['Jon', 'Janos', 'Bowen']\n",
      "['Jon', 'Samwell', 'Bowen']\n",
      "['Jon', 'Robert', 'Renly', 'Margaery']\n",
      "['Jon', 'Stannis', 'Renly', 'Margaery']\n",
      "['Jon', 'Dalla']\n",
      "['Jon', 'Melisandre']\n",
      "['Jon', 'Orell']\n",
      "['Jon', 'Qhorin']\n",
      "['Jon', 'Rattleshirt']\n",
      "['Jon', 'Styr']\n",
      "['Jon', 'Val']\n",
      "['Jon', 'Ygritte']\n",
      "['Jon', 'Stannis', 'Renly', 'Loras', 'Olenna']\n",
      "['Jon', 'Robert', 'Renly', 'Loras', 'Olenna']\n",
      "['Jon', 'Stannis', 'Balon', 'Loras', 'Olenna']\n"
     ]
    }
   ],
   "source": [
    "print g.shortest_paths(\"Jon\",\"Margaery\")\n",
    "print \"---------------------\"\n",
    "print [names[x] for x in g.get_shortest_paths(\"Jon\",\"Margaery\")[0]]\n",
    "print \"---------------------\"\n",
    "paths = g.get_all_shortest_paths(\"Jon\")\n",
    "for p in paths:\n",
    "    print [names[x] for x in p]"
   ]
  },
  {
   "cell_type": "markdown",
   "metadata": {},
   "source": [
    "## 中心性度量"
   ]
  },
  {
   "cell_type": "code",
   "execution_count": 7,
   "metadata": {
    "collapsed": false
   },
   "outputs": [
    {
     "name": "stdout",
     "output_type": "stream",
     "text": [
      "36\n",
      "---------------------\n",
      "Jaime 24\n",
      "Robert 18\n",
      "Tyrion 36\n",
      "Tywin 22\n",
      "Arya 19\n",
      "Cersei 20\n",
      "Joffrey 18\n",
      "Jon 26\n",
      "Catelyn 18\n",
      "Robb 25\n",
      "Sansa 26\n"
     ]
    }
   ],
   "source": [
    "# 度中心性(Degree Centrality)\n",
    "# 度中心性仅是一个节点在网络中的连接数。在权利的游戏的图的上下文中，一个角色的度中心性是该角色交互的其他角色数。\n",
    "print g.maxdegree()\n",
    "print \"---------------------\"\n",
    "for p in g.vs:\n",
    "    if p.degree() > 15:\n",
    "        print p[\"name\"],p.degree()"
   ]
  },
  {
   "cell_type": "code",
   "execution_count": 8,
   "metadata": {
    "collapsed": false
   },
   "outputs": [
    {
     "name": "stdout",
     "output_type": "stream",
     "text": [
      "Jaime 307\n",
      "Robert 262\n",
      "Tyrion 357\n",
      "Tywin 251\n",
      "Arya 279\n",
      "Cersei 273\n",
      "Joffrey 262\n",
      "Robb 301\n",
      "Sansa 325\n"
     ]
    }
   ],
   "source": [
    "# 加权度中心性\n",
    "for p in g.vs:\n",
    "    weightedDegree = sum([x.degree() for x in p.neighbors()])\n",
    "    if weightedDegree > 250:\n",
    "        print p[\"name\"],weightedDegree"
   ]
  },
  {
   "cell_type": "code",
   "execution_count": 9,
   "metadata": {
    "collapsed": false
   },
   "outputs": [
    {
     "name": "stdout",
     "output_type": "stream",
     "text": [
      "Aerys 25.0\n",
      "Balon 21.6666666667\n",
      "Jeyne 21.5\n",
      "Petyr 20.7142857143\n",
      "Pycelle 21.25\n",
      "Qyburn 24.0\n",
      "Myrcella 21.25\n",
      "Orell 26.0\n",
      "Ellaria 21.5\n",
      "Mace 21.6666666667\n",
      "Ramsay 25.0\n",
      "Chataya 20.5\n",
      "Doran 36.0\n",
      "Walton 24.0\n"
     ]
    }
   ],
   "source": [
    "# 邻居平均度\n",
    "for p in zip(g.vs,g.knn()[0]):\n",
    "    if p[1] > 20:\n",
    "        print p[0][\"name\"],p[1]"
   ]
  },
  {
   "cell_type": "code",
   "execution_count": 10,
   "metadata": {
    "collapsed": false
   },
   "outputs": [
    {
     "data": {
      "text/plain": [
       "[{'bt': 332.9746031746032, 'name': 'Tyrion'},\n",
       " {'bt': 244.63571428571433, 'name': 'Samwell'},\n",
       " {'bt': 226.2047619047619, 'name': 'Stannis'},\n",
       " {'bt': 208.62301587301587, 'name': 'Robert'},\n",
       " {'bt': 138.66666666666666, 'name': 'Mance'},\n",
       " {'bt': 119.99563492063493, 'name': 'Jaime'},\n",
       " {'bt': 114.33333333333334, 'name': 'Sandor'},\n",
       " {'bt': 111.26666666666665, 'name': 'Jon'},\n",
       " {'bt': 90.65, 'name': 'Janos'},\n",
       " {'bt': 64.59761904761905, 'name': 'Aemon'}]"
      ]
     },
     "execution_count": 10,
     "metadata": {},
     "output_type": "execute_result"
    }
   ],
   "source": [
    "# 介数中心性(Betweenness Centrality)\n",
    "# 一个网络中的一个节点的中介中心性(Betweenness Centrality) 是，网络中所有的节点对之间通过该节点的最短路径数。\n",
    "# 中介中心性是一项重要的指标，因为它可以用于识别网络中的“信息代理”，或者那些连接不同集群的节点。\n",
    "btvs = []\n",
    "for p in zip(g.vs, g.betweenness()):\n",
    "    btvs.append({\"name\": p[0][\"name\"], \"bt\": p[1]})\n",
    "# print pgvs\n",
    "sorted(btvs, key=lambda k: k['bt'], reverse=True)[:10]"
   ]
  },
  {
   "cell_type": "code",
   "execution_count": 11,
   "metadata": {
    "collapsed": false
   },
   "outputs": [
    {
     "data": {
      "text/plain": [
       "[{'cc': 0.5120772946859904, 'name': 'Tyrion'},\n",
       " {'cc': 0.5096153846153846, 'name': 'Sansa'},\n",
       " {'cc': 0.5, 'name': 'Robert'},\n",
       " {'cc': 0.48847926267281105, 'name': 'Robb'},\n",
       " {'cc': 0.48623853211009177, 'name': 'Arya'},\n",
       " {'cc': 0.4796380090497738, 'name': 'Jaime'},\n",
       " {'cc': 0.4796380090497738, 'name': 'Jon'},\n",
       " {'cc': 0.4796380090497738, 'name': 'Stannis'},\n",
       " {'cc': 0.4690265486725664, 'name': 'Tywin'},\n",
       " {'cc': 0.4608695652173913, 'name': 'Eddard'}]"
      ]
     },
     "execution_count": 11,
     "metadata": {},
     "output_type": "execute_result"
    }
   ],
   "source": [
    "# 接近中心性(Closeness centrality)\n",
    "# 接近中心性(Closeness centrality)是到网络中所有其他角色的平均距离的倒数。\n",
    "# 具有高接近中心性的节点通常在图中的集群之间被高度连接，但在集群外部不一定是高度连接的。\n",
    "ccvs = []\n",
    "for p in zip(g.vs, g.closeness()):\n",
    "    ccvs.append({\"name\": p[0][\"name\"], \"cc\": p[1]})\n",
    "# print pgvs\n",
    "sorted(ccvs, key=lambda k: k['cc'], reverse=True)[:10]"
   ]
  },
  {
   "cell_type": "markdown",
   "metadata": {},
   "source": [
    "## PageRank算法\n",
    "\n",
    "PageRank是一种最初由Google用来对网页重要性进行排序的算法。"
   ]
  },
  {
   "cell_type": "code",
   "execution_count": 12,
   "metadata": {
    "collapsed": false
   },
   "outputs": [
    {
     "data": {
      "text/plain": [
       "[{'name': 'Margaery', 'pg': 0.032841464406084854},\n",
       " {'name': 'Samwell', 'pg': 0.025444623421744195},\n",
       " {'name': 'Loras', 'pg': 0.024829863132020076},\n",
       " {'name': 'Roslin', 'pg': 0.02410662426608122},\n",
       " {'name': 'Qhorin', 'pg': 0.02001318236350523},\n",
       " {'name': 'Karl', 'pg': 0.019198607452237473},\n",
       " {'name': 'Drogo', 'pg': 0.018892299206707614},\n",
       " {'name': 'Grenn', 'pg': 0.01762837304517548},\n",
       " {'name': 'Pycelle', 'pg': 0.01732234562876074},\n",
       " {'name': 'Craster', 'pg': 0.017148610457964602}]"
      ]
     },
     "execution_count": 12,
     "metadata": {},
     "output_type": "execute_result"
    }
   ],
   "source": [
    "pg = g.pagerank()\n",
    "# pg = g.pagerank(vertices=None, directed=True, damping=0.85, \n",
    "#                 weights=weights, arpack_options=None, \n",
    "#                 implementation='prpack', \n",
    "#                 niter=1000, eps=0.001)\n",
    "pgvs = []\n",
    "for p in zip(g.vs, pg):\n",
    "    pgvs.append({\"name\": p[0][\"name\"], \"pg\": p[1]})\n",
    "# print pgvs\n",
    "sorted(pgvs, key=lambda k: k['pg'], reverse=True)[:10]"
   ]
  },
  {
   "cell_type": "markdown",
   "metadata": {},
   "source": [
    "## 社区检测（Community Detection）\n",
    "\n",
    "社区检测算法用以查找图中的集群。我们将使用igraph中实现的walktrap社区检测方法，来找到那些在社区之中频繁交互，但在社区之外不存在太多互动的角色的社区。"
   ]
  },
  {
   "cell_type": "code",
   "execution_count": 13,
   "metadata": {
    "collapsed": false
   },
   "outputs": [
    {
     "name": "stdout",
     "output_type": "stream",
     "text": [
      "Community  0 :  ['Aemon', 'Grenn', 'Samwell', 'Alliser', 'Mance', 'Jon', 'Craster', 'Karl', 'Eddison', 'Gilly', 'Janos', 'Bowen', 'Dalla', 'Orell', 'Qhorin', 'Rattleshirt', 'Styr', 'Val', 'Ygritte']\n",
      "Community  1 :  ['Aerys', 'Jaime', 'Robert', 'Tyrion', 'Tywin', 'Amory', 'Oberyn', 'Cersei', 'Gregor', 'Joffrey', 'Balon', 'Loras', 'Brienne', 'Bronn', 'Podrick', 'Lysa', 'Petyr', 'Sansa', 'Elia', 'Ilyn', 'Meryn', 'Pycelle', 'Shae', 'Varys', 'Qyburn', 'Renly', 'Tommen', 'Kevan', 'Margaery', 'Myrcella', 'Jon Arryn', 'Olenna', 'Marillion', 'Robert Arryn', 'Ellaria', 'Mace', 'Chataya', 'Doran', 'Walton']\n",
      "Community  2 :  ['Arya', 'Anguy', 'Beric', 'Gendry', 'Sandor', 'Thoros', 'Eddard']\n",
      "Community  3 :  ['Bran', 'Rickon', 'Hodor', 'Jojen', 'Luwin', 'Meera', 'Nan', 'Theon']\n",
      "Community  4 :  ['Brynden', 'Roose', 'Lothar', 'Walder', 'Catelyn', 'Edmure', 'Hoster', 'Jeyne', 'Robb', 'Roslin', 'Rickard', 'Ramsay']\n",
      "Community  5 :  ['Belwas', 'Barristan', 'Illyrio', 'Daario', 'Drogo', 'Irri', 'Daenerys', 'Aegon', 'Jorah', 'Kraznys', 'Missandei', 'Rakharo', 'Rhaegar', 'Viserys', 'Worm']\n",
      "Community  6 :  ['Stannis', 'Davos', 'Cressen', 'Salladhor', 'Melisandre', 'Shireen']\n",
      "Community  7 :  ['Lancel']\n"
     ]
    }
   ],
   "source": [
    "clusters = IGraph.community_walktrap(g, weights=\"weight\").as_clustering()\n",
    "# community_walktrap: Community detection algorithm of Latapy & Pons, based on random walks.\n",
    "# Pascal Pons, Matthieu Latapy: Computing communities in large networks using random walks, \n",
    "# http://arxiv.org/abs/physics/0512106.\n",
    "nodes = [{\"name\": node[\"name\"]} for node in g.vs]\n",
    "community = {}\n",
    "for node in nodes:\n",
    "    idx = g.vs.find(name=node[\"name\"]).index\n",
    "    node[\"community\"] = clusters.membership[idx]\n",
    "    if node[\"community\"] not in community:\n",
    "        community[node[\"community\"]] = [node[\"name\"]]\n",
    "    else:\n",
    "        community[node[\"community\"]].append(node[\"name\"])\n",
    "for c,l in community.iteritems():\n",
    "    print \"Community \", c, \": \", l"
   ]
  }
 ],
 "metadata": {
  "kernelspec": {
   "display_name": "Python [Root]",
   "language": "python",
   "name": "Python [Root]"
  },
  "language_info": {
   "codemirror_mode": {
    "name": "ipython",
    "version": 2
   },
   "file_extension": ".py",
   "mimetype": "text/x-python",
   "name": "python",
   "nbconvert_exporter": "python",
   "pygments_lexer": "ipython2",
   "version": "2.7.12"
  }
 },
 "nbformat": 4,
 "nbformat_minor": 0
}
