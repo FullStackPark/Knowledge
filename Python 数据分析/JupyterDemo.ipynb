{
 "cells": [
  {
   "cell_type": "code",
   "execution_count": 1,
   "metadata": {},
   "outputs": [
    {
     "data": {
      "text/plain": [
       "3"
      ]
     },
     "execution_count": 1,
     "metadata": {},
     "output_type": "execute_result"
    }
   ],
   "source": [
    "1+2"
   ]
  },
  {
   "cell_type": "code",
   "execution_count": 2,
   "metadata": {},
   "outputs": [
    {
     "name": "stdout",
     "output_type": "stream",
     "text": [
      "15\n"
     ]
    }
   ],
   "source": [
    "print(1+2+3+4+5)"
   ]
  },
  {
   "cell_type": "markdown",
   "metadata": {},
   "source": [
    "# 这是一个 Jupyter 的入门资料"
   ]
  },
  {
   "cell_type": "markdown",
   "metadata": {},
   "source": [
    "* File 新建\n",
    "* Run 代表运行\n",
    "* 常常用来进行一些简易代码的直接的运行和演示\n",
    "* 不太适合用来做工程\n",
    "* 做工程一般使用 PyCharm 这个玩意\n",
    "* Python 是非常值得学好的"
   ]
  },
  {
   "cell_type": "markdown",
   "metadata": {},
   "source": [
    "下面的代码:\n",
    "\n",
    "#题目：输出 9*9 乘法口诀表。\n",
    "#程序分析：分行与列考虑，共9行9列，i控制行，j控制列。"
   ]
  },
  {
   "cell_type": "code",
   "execution_count": 6,
   "metadata": {},
   "outputs": [
    {
     "name": "stdout",
     "output_type": "stream",
     "text": [
      "1*1=1 \n",
      "\n",
      "2*1=2 \n",
      "\n",
      "2*2=4 \n",
      "\n",
      "3*1=3 \n",
      "\n",
      "3*2=6 \n",
      "\n",
      "3*3=9 \n",
      "\n",
      "4*1=4 \n",
      "\n",
      "4*2=8 \n",
      "\n",
      "4*3=12 \n",
      "\n",
      "4*4=16 \n",
      "\n",
      "5*1=5 \n",
      "\n",
      "5*2=10 \n",
      "\n",
      "5*3=15 \n",
      "\n",
      "5*4=20 \n",
      "\n",
      "5*5=25 \n",
      "\n",
      "6*1=6 \n",
      "\n",
      "6*2=12 \n",
      "\n",
      "6*3=18 \n",
      "\n",
      "6*4=24 \n",
      "\n",
      "6*5=30 \n",
      "\n",
      "6*6=36 \n",
      "\n",
      "7*1=7 \n",
      "\n",
      "7*2=14 \n",
      "\n",
      "7*3=21 \n",
      "\n",
      "7*4=28 \n",
      "\n",
      "7*5=35 \n",
      "\n",
      "7*6=42 \n",
      "\n",
      "7*7=49 \n",
      "\n",
      "8*1=8 \n",
      "\n",
      "8*2=16 \n",
      "\n",
      "8*3=24 \n",
      "\n",
      "8*4=32 \n",
      "\n",
      "8*5=40 \n",
      "\n",
      "8*6=48 \n",
      "\n",
      "8*7=56 \n",
      "\n",
      "8*8=64 \n",
      "\n",
      "9*1=9 \n",
      "\n",
      "9*2=18 \n",
      "\n",
      "9*3=27 \n",
      "\n",
      "9*4=36 \n",
      "\n",
      "9*5=45 \n",
      "\n",
      "9*6=54 \n",
      "\n",
      "9*7=63 \n",
      "\n",
      "9*8=72 \n",
      "\n",
      "9*9=81 \n",
      "\n"
     ]
    }
   ],
   "source": [
    "#!/usr/bin/python\n",
    "# -*- coding: UTF-8 -*-\n",
    "\n",
    "for i in range(1, 10):\n",
    "    print\n",
    "    for j in range(1, i+1):\n",
    "        print(\"%d*%d=%d\" % (i, j, i*j),'\\n')"
   ]
  },
  {
   "cell_type": "code",
   "execution_count": null,
   "metadata": {},
   "outputs": [],
   "source": []
  },
  {
   "cell_type": "code",
   "execution_count": null,
   "metadata": {},
   "outputs": [],
   "source": []
  },
  {
   "cell_type": "code",
   "execution_count": null,
   "metadata": {},
   "outputs": [],
   "source": []
  }
 ],
 "metadata": {
  "kernelspec": {
   "display_name": "Python 3",
   "language": "python",
   "name": "python3"
  },
  "language_info": {
   "codemirror_mode": {
    "name": "ipython",
    "version": 3
   },
   "file_extension": ".py",
   "mimetype": "text/x-python",
   "name": "python",
   "nbconvert_exporter": "python",
   "pygments_lexer": "ipython3",
   "version": "3.6.4"
  }
 },
 "nbformat": 4,
 "nbformat_minor": 2
}
