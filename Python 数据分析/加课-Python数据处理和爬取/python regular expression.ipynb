{
 "cells": [
  {
   "cell_type": "markdown",
   "metadata": {},
   "source": [
    "## python正则表达式\n",
    "想在文本数据中找到自己想要的格式，最快捷粗暴的方式就是正则表达式，等你把爬虫爬下的网页老老实实用网页解析模块解析，去逐步抽取信息，我用正则表达式可能已经完成四五趟同样的操作了。\n",
    "\n",
    "任何你想抽取的东西，只要你能写成模式串，就能抽取出想要的信息，或者进行替换。"
   ]
  },
  {
   "cell_type": "code",
   "execution_count": 1,
   "metadata": {
    "collapsed": false
   },
   "outputs": [
    {
     "name": "stdout",
     "output_type": "stream",
     "text": [
      "hello\n"
     ]
    }
   ],
   "source": [
    "# encoding: UTF-8\n",
    "import re\n",
    " \n",
    "# 将正则表达式编译成Pattern对象\n",
    "pattern = re.compile(r'hello')\n",
    " \n",
    "# 使用Pattern匹配文本，获得匹配结果，无法匹配时将返回None\n",
    "match = pattern.match('hello world!')\n",
    " \n",
    "if match:\n",
    "    # 使用Match获得分组信息\n",
    "    print match.group()\n",
    " \n",
    "### 输出 ###\n",
    "# hello"
   ]
  },
  {
   "cell_type": "markdown",
   "metadata": {},
   "source": [
    "### 学会用re.compile(strPattern[, flag]):\n",
    "\n",
    "这个方法是Pattern类的工厂方法，用于将字符串形式的正则表达式编译为Pattern对象。 第二个参数flag是匹配模式，取值可以使用按位或运算符'|'表示同时生效，比如re.I | re.M。另外，你也可以在regex字符串中指定模式，比如re.compile('pattern', re.I | re.M)与re.compile('(?im)pattern')是等价的。 \n",
    "可选值有：\n",
    "\n",
    "* re.**I**(re.IGNORECASE): 忽略大小写（括号内是完整写法，下同）\n",
    "* **M**(MULTILINE): 多行模式，改变'^'和'$'的行为（参见上图）\n",
    "* **S**(DOTALL): 点任意匹配模式，改变'.'的行为\n",
    "* **L**(LOCALE): 使预定字符类 \\w \\W \\b \\B \\s \\S 取决于当前区域设定\n",
    "* **U**(UNICODE): 使预定字符类 \\w \\W \\b \\B \\s \\S \\d \\D 取决于unicode定义的字符属性\n",
    "* **X**(VERBOSE): 详细模式。这个模式下正则表达式可以是多行，忽略空白字符，并可以加入注释。以下两个正则表达式是等价的："
   ]
  },
  {
   "cell_type": "code",
   "execution_count": 2,
   "metadata": {
    "collapsed": true
   },
   "outputs": [],
   "source": [
    "a = re.compile(r\"\"\"\\d +  # the integral part\n",
    "                   \\.    # the decimal point\n",
    "                   \\d *  # some fractional digits\"\"\", re.X)\n",
    "b = re.compile(r\"\\d+\\.\\d*\")"
   ]
  },
  {
   "cell_type": "code",
   "execution_count": 3,
   "metadata": {
    "collapsed": false
   },
   "outputs": [
    {
     "name": "stdout",
     "output_type": "stream",
     "text": [
      "hello\n"
     ]
    }
   ],
   "source": [
    "m = re.match(r'hello', 'hello world!')\n",
    "print m.group()"
   ]
  },
  {
   "cell_type": "markdown",
   "metadata": {},
   "source": [
    "### Match\n",
    "Match对象是一次匹配的结果，包含了很多关于此次匹配的信息，可以使用Match提供的可读属性或方法来获取这些信息。\n",
    "\n",
    "**属性：**\n",
    "\n",
    "* string: 匹配时使用的文本。\n",
    "* re: 匹配时使用的Pattern对象。\n",
    "* pos: 文本中正则表达式开始搜索的索引。值与Pattern.match()和Pattern.seach()方法的同名参数相同。\n",
    "* endpos: 文本中正则表达式结束搜索的索引。值与Pattern.match()和Pattern.seach()方法的同名参数相同。\n",
    "* lastindex: 最后一个被捕获的分组在文本中的索引。如果没有被捕获的分组，将为None。\n",
    "* lastgroup: 最后一个被捕获的分组的别名。如果这个分组没有别名或者没有被捕获的分组，将为None。\n",
    "\n",
    "**方法：**\n",
    "\n",
    "* group([group1, …]): <br>\n",
    "获得一个或多个分组截获的字符串；指定多个参数时将以元组形式返回。group1可以使用编号也可以使用别名；编号0代表整个匹配的子串；不填写参数时，返回group(0)；没有截获字符串的组返回None；截获了多次的组返回最后一次截获的子串。\n",
    "* groups([default]): <br>\n",
    "以元组形式返回全部分组截获的字符串。相当于调用group(1,2,…last)。default表示没有截获字符串的组以这个值替代，默认为None。\n",
    "* groupdict([default]): <br>\n",
    "返回以有别名的组的别名为键、以该组截获的子串为值的字典，没有别名的组不包含在内。default含义同上。\n",
    "* start([group]): <br>\n",
    "返回指定的组截获的子串在string中的起始索引（子串第一个字符的索引）。group默认值为0。\n",
    "* end([group]): <br>\n",
    "返回指定的组截获的子串在string中的结束索引（子串最后一个字符的索引+1）。group默认值为0。\n",
    "* span([group]): <br>\n",
    "返回(start(group), end(group))。\n",
    "* expand(template): <br>\n",
    "将匹配到的分组代入template中然后返回。template中可以使用\\id或\\g<id>、\\g<name>引用分组，但不能使用编号0。\\id与\\g<id>是等价的；但\\10将被认为是第10个分组，如果你想表达\\1之后是字符'0'，只能使用\\g<1>0。"
   ]
  },
  {
   "cell_type": "code",
   "execution_count": 4,
   "metadata": {
    "collapsed": false
   },
   "outputs": [
    {
     "name": "stdout",
     "output_type": "stream",
     "text": [
      "m.string: hello world!\n",
      "m.re: <_sre.SRE_Pattern object at 0x105bc6360>\n",
      "m.pos: 0\n",
      "m.endpos: 12\n",
      "m.lastindex: 3\n",
      "m.lastgroup: sign\n",
      "m.group(1,2): ('hello', 'world')\n",
      "m.groups(): ('hello', 'world', '!')\n",
      "m.groupdict(): {'sign': '!'}\n",
      "m.start(2): 6\n",
      "m.end(2): 11\n",
      "m.span(2): (6, 11)\n",
      "m.expand(r'\\2 \\1\\3'): world hello!\n"
     ]
    }
   ],
   "source": [
    "import re\n",
    "m = re.match(r'(\\w+) (\\w+)(?P<sign>.*)', 'hello world!')\n",
    " \n",
    "print \"m.string:\", m.string\n",
    "print \"m.re:\", m.re\n",
    "print \"m.pos:\", m.pos\n",
    "print \"m.endpos:\", m.endpos\n",
    "print \"m.lastindex:\", m.lastindex\n",
    "print \"m.lastgroup:\", m.lastgroup\n",
    " \n",
    "print \"m.group(1,2):\", m.group(1, 2)\n",
    "print \"m.groups():\", m.groups()\n",
    "print \"m.groupdict():\", m.groupdict()\n",
    "print \"m.start(2):\", m.start(2)\n",
    "print \"m.end(2):\", m.end(2)\n",
    "print \"m.span(2):\", m.span(2)\n",
    "print r\"m.expand(r'\\2 \\1\\3'):\", m.expand(r'\\2 \\1\\3')"
   ]
  },
  {
   "cell_type": "markdown",
   "metadata": {},
   "source": [
    "### Pattern\n",
    "Pattern对象是一个编译好的正则表达式，通过Pattern提供的一系列方法可以对文本进行匹配查找。\n",
    "\n",
    "Pattern不能直接实例化，必须使用re.compile()进行构造。\n",
    "\n",
    "Pattern提供了几个可读属性用于获取表达式的相关信息：\n",
    "\n",
    "* pattern: 编译时用的表达式字符串。\n",
    "* flags: 编译时用的匹配模式。数字形式。\n",
    "* groups: 表达式中分组的数量。\n",
    "* groupindex: 以表达式中有别名的组的别名为键、以该组对应的编号为值的字典，没有别名的组不包含在内。"
   ]
  },
  {
   "cell_type": "code",
   "execution_count": 5,
   "metadata": {
    "collapsed": false
   },
   "outputs": [
    {
     "name": "stdout",
     "output_type": "stream",
     "text": [
      "p.pattern: (\\w+) (\\w+)(?P<sign>.*)\n",
      "p.flags: 16\n",
      "p.groups: 3\n",
      "p.groupindex: {'sign': 3}\n"
     ]
    }
   ],
   "source": [
    "import re\n",
    "p = re.compile(r'(\\w+) (\\w+)(?P<sign>.*)', re.DOTALL)\n",
    " \n",
    "print \"p.pattern:\", p.pattern\n",
    "print \"p.flags:\", p.flags\n",
    "print \"p.groups:\", p.groups\n",
    "print \"p.groupindex:\", p.groupindex"
   ]
  },
  {
   "cell_type": "markdown",
   "metadata": {},
   "source": [
    "### match与search"
   ]
  },
  {
   "cell_type": "code",
   "execution_count": 6,
   "metadata": {
    "collapsed": false
   },
   "outputs": [
    {
     "name": "stdout",
     "output_type": "stream",
     "text": [
      "world\n"
     ]
    }
   ],
   "source": [
    "# encoding: UTF-8 \n",
    "import re \n",
    " \n",
    "# 将正则表达式编译成Pattern对象 \n",
    "pattern = re.compile(r'world') \n",
    " \n",
    "# 使用search()查找匹配的子串，不存在能匹配的子串时将返回None \n",
    "# 这个例子中使用match()无法成功匹配 \n",
    "match = pattern.search('hello world!') \n",
    " \n",
    "if match: \n",
    "    # 使用Match获得分组信息 \n",
    "    print match.group() "
   ]
  },
  {
   "cell_type": "markdown",
   "metadata": {},
   "source": [
    "### split(string[, maxsplit]) | re.split(pattern, string[, maxsplit]): \n",
    "按照能够匹配的子串将string分割后返回列表。maxsplit用于指定最大分割次数，不指定将全部分割。"
   ]
  },
  {
   "cell_type": "code",
   "execution_count": 8,
   "metadata": {
    "collapsed": false
   },
   "outputs": [
    {
     "name": "stdout",
     "output_type": "stream",
     "text": [
      "['one', 'two', 'three', 'four', '']\n"
     ]
    }
   ],
   "source": [
    "import re\n",
    " \n",
    "p = re.compile(r'\\d+')\n",
    "print p.split('one1two2three3four4')"
   ]
  },
  {
   "cell_type": "markdown",
   "metadata": {},
   "source": [
    "### findall(string[, pos[, endpos]]) | re.findall(pattern, string[, flags]): \n",
    "搜索string，以列表形式返回全部能匹配的子串。"
   ]
  },
  {
   "cell_type": "code",
   "execution_count": 9,
   "metadata": {
    "collapsed": false
   },
   "outputs": [
    {
     "name": "stdout",
     "output_type": "stream",
     "text": [
      "['1', '2', '3', '4']\n"
     ]
    }
   ],
   "source": [
    "import re\n",
    " \n",
    "p = re.compile(r'\\d+')\n",
    "print p.findall('one1two2three3four4')"
   ]
  },
  {
   "cell_type": "markdown",
   "metadata": {},
   "source": [
    "### finditer(string[, pos[, endpos]]) | re.finditer(pattern, string[, flags]): \n",
    "搜索string，返回一个顺序访问每一个匹配结果（Match对象）的迭代器。"
   ]
  },
  {
   "cell_type": "code",
   "execution_count": 10,
   "metadata": {
    "collapsed": false
   },
   "outputs": [
    {
     "name": "stdout",
     "output_type": "stream",
     "text": [
      "1 2 3 4\n"
     ]
    }
   ],
   "source": [
    "import re\n",
    " \n",
    "p = re.compile(r'\\d+')\n",
    "for m in p.finditer('one1two2three3four4'):\n",
    "    print m.group(),"
   ]
  },
  {
   "cell_type": "markdown",
   "metadata": {},
   "source": [
    "### sub(repl, string[, count]) | re.sub(pattern, repl, string[, count]): \n",
    "使用repl替换string中每一个匹配的子串后返回替换后的字符串。<br> \n",
    "当repl是一个字符串时，可以使用\\id或\\g<id>、\\g<name>引用分组，但不能使用编号0。<br> \n",
    "当repl是一个方法时，这个方法应当只接受一个参数（Match对象），并返回一个字符串用于替换（返回的字符串中不能再引用分组）。<br> \n",
    "count用于指定最多替换次数，不指定时全部替换。 "
   ]
  },
  {
   "cell_type": "code",
   "execution_count": 11,
   "metadata": {
    "collapsed": false
   },
   "outputs": [
    {
     "name": "stdout",
     "output_type": "stream",
     "text": [
      "say i, world hello!\n",
      "I Say, Hello World!\n"
     ]
    }
   ],
   "source": [
    "import re\n",
    " \n",
    "p = re.compile(r'(\\w+) (\\w+)')\n",
    "s = 'i say, hello world!'\n",
    " \n",
    "print p.sub(r'\\2 \\1', s)\n",
    " \n",
    "def func(m):\n",
    "    return m.group(1).title() + ' ' + m.group(2).title()\n",
    " \n",
    "print p.sub(func, s)"
   ]
  },
  {
   "cell_type": "markdown",
   "metadata": {},
   "source": [
    "### subn(repl, string[, count]) |re.sub(pattern, repl, string[, count]): \n",
    "返回 (sub(repl, string[, count]), 替换次数)。 "
   ]
  },
  {
   "cell_type": "code",
   "execution_count": 12,
   "metadata": {
    "collapsed": false
   },
   "outputs": [
    {
     "name": "stdout",
     "output_type": "stream",
     "text": [
      "('say i, world hello!', 2)\n",
      "('I Say, Hello World!', 2)\n"
     ]
    }
   ],
   "source": [
    "import re\n",
    " \n",
    "p = re.compile(r'(\\w+) (\\w+)')\n",
    "s = 'i say, hello world!'\n",
    " \n",
    "print p.subn(r'\\2 \\1', s)\n",
    " \n",
    "def func(m):\n",
    "    return m.group(1).title() + ' ' + m.group(2).title()\n",
    " \n",
    "print p.subn(func, s)"
   ]
  },
  {
   "cell_type": "code",
   "execution_count": null,
   "metadata": {
    "collapsed": true
   },
   "outputs": [],
   "source": []
  }
 ],
 "metadata": {
  "kernelspec": {
   "display_name": "Python 2",
   "language": "python",
   "name": "python2"
  },
  "language_info": {
   "codemirror_mode": {
    "name": "ipython",
    "version": 2
   },
   "file_extension": ".py",
   "mimetype": "text/x-python",
   "name": "python",
   "nbconvert_exporter": "python",
   "pygments_lexer": "ipython2",
   "version": "2.7.10"
  }
 },
 "nbformat": 4,
 "nbformat_minor": 0
}
